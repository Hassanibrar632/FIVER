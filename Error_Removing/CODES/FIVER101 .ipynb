{
 "cells": [
  {
   "cell_type": "markdown",
   "id": "8e0ab30a",
   "metadata": {},
   "source": [
    "# Setup for the data and Libraries"
   ]
  },
  {
   "cell_type": "code",
   "execution_count": 1,
   "id": "5e173073",
   "metadata": {},
   "outputs": [
    {
     "name": "stderr",
     "output_type": "stream",
     "text": [
      "2023-02-24 11:25:59.667659: W tensorflow/compiler/xla/stream_executor/platform/default/dso_loader.cc:64] Could not load dynamic library 'libcudart.so.11.0'; dlerror: libcudart.so.11.0: cannot open shared object file: No such file or directory\n",
      "2023-02-24 11:25:59.667701: I tensorflow/compiler/xla/stream_executor/cuda/cudart_stub.cc:29] Ignore above cudart dlerror if you do not have a GPU set up on your machine.\n",
      "2023-02-24 11:26:02.045864: W tensorflow/compiler/xla/stream_executor/platform/default/dso_loader.cc:64] Could not load dynamic library 'libnvinfer.so.7'; dlerror: libnvinfer.so.7: cannot open shared object file: No such file or directory\n",
      "2023-02-24 11:26:02.046088: W tensorflow/compiler/xla/stream_executor/platform/default/dso_loader.cc:64] Could not load dynamic library 'libnvinfer_plugin.so.7'; dlerror: libnvinfer_plugin.so.7: cannot open shared object file: No such file or directory\n",
      "2023-02-24 11:26:02.046106: W tensorflow/compiler/tf2tensorrt/utils/py_utils.cc:38] TF-TRT Warning: Cannot dlopen some TensorRT libraries. If you would like to use Nvidia GPU with TensorRT, please make sure the missing libraries mentioned above are installed properly.\n"
     ]
    }
   ],
   "source": [
    "#importing Libraries from Preprocessing and data plotting\n",
    "import numpy as np\n",
    "import pandas as pd\n",
    "import seaborn as sns\n",
    "import matplotlib.pyplot as plt\n",
    "from sklearn import preprocessing, svm\n",
    "from sklearn.model_selection import train_test_split\n",
    "from sklearn.linear_model import LinearRegression\n",
    "from scipy.stats import linregress\n",
    "import random as rand\n",
    "from sklearn.preprocessing import LabelEncoder\n",
    "import tensorflow as tf\n",
    "import tensorflow.keras\n",
    "from tensorflow.keras.layers import Dense\n",
    "from tensorflow.keras.models import Sequential\n",
    "import seaborn as sns"
   ]
  },
  {
   "cell_type": "code",
   "execution_count": 2,
   "id": "05ee399c",
   "metadata": {},
   "outputs": [
    {
     "data": {
      "text/html": [
       "<div>\n",
       "<style scoped>\n",
       "    .dataframe tbody tr th:only-of-type {\n",
       "        vertical-align: middle;\n",
       "    }\n",
       "\n",
       "    .dataframe tbody tr th {\n",
       "        vertical-align: top;\n",
       "    }\n",
       "\n",
       "    .dataframe thead th {\n",
       "        text-align: right;\n",
       "    }\n",
       "</style>\n",
       "<table border=\"1\" class=\"dataframe\">\n",
       "  <thead>\n",
       "    <tr style=\"text-align: right;\">\n",
       "      <th></th>\n",
       "      <th>source of drinking water (simplified)</th>\n",
       "      <th>time to get to water source (minutes)</th>\n",
       "      <th>location of source for water</th>\n",
       "    </tr>\n",
       "  </thead>\n",
       "  <tbody>\n",
       "    <tr>\n",
       "      <th>0</th>\n",
       "      <td>piped into dwelling</td>\n",
       "      <td>NaN</td>\n",
       "      <td>NaN</td>\n",
       "    </tr>\n",
       "    <tr>\n",
       "      <th>1</th>\n",
       "      <td>piped into dwelling</td>\n",
       "      <td>NaN</td>\n",
       "      <td>NaN</td>\n",
       "    </tr>\n",
       "    <tr>\n",
       "      <th>2</th>\n",
       "      <td>piped into dwelling</td>\n",
       "      <td>NaN</td>\n",
       "      <td>NaN</td>\n",
       "    </tr>\n",
       "    <tr>\n",
       "      <th>3</th>\n",
       "      <td>piped into dwelling</td>\n",
       "      <td>NaN</td>\n",
       "      <td>NaN</td>\n",
       "    </tr>\n",
       "    <tr>\n",
       "      <th>4</th>\n",
       "      <td>piped into dwelling</td>\n",
       "      <td>NaN</td>\n",
       "      <td>NaN</td>\n",
       "    </tr>\n",
       "  </tbody>\n",
       "</table>\n",
       "</div>"
      ],
      "text/plain": [
       "  source of drinking water (simplified)  \\\n",
       "0                   piped into dwelling   \n",
       "1                   piped into dwelling   \n",
       "2                   piped into dwelling   \n",
       "3                   piped into dwelling   \n",
       "4                   piped into dwelling   \n",
       "\n",
       "   time to get to water source (minutes) location of source for water  \n",
       "0                                    NaN                          NaN  \n",
       "1                                    NaN                          NaN  \n",
       "2                                    NaN                          NaN  \n",
       "3                                    NaN                          NaN  \n",
       "4                                    NaN                          NaN  "
      ]
     },
     "execution_count": 2,
     "metadata": {},
     "output_type": "execute_result"
    }
   ],
   "source": [
    "#reading data from cvs\n",
    "df = pd.read_csv(\"ultimate_data-1.csv\").drop(\"Unnamed: 0\", axis=1)\n",
    "df.head()"
   ]
  },
  {
   "cell_type": "code",
   "execution_count": 3,
   "id": "f6bc36fb",
   "metadata": {},
   "outputs": [
    {
     "data": {
      "text/plain": [
       "((970636, 3), (970636, 3))"
      ]
     },
     "execution_count": 3,
     "metadata": {},
     "output_type": "execute_result"
    }
   ],
   "source": [
    "#spliltiing missing data and entrrying random values to the newly created data frame(only missing values)\n",
    "Train = pd.DataFrame()\n",
    "dumy, df = df.dropna(), df\n",
    "temp = dumy\n",
    "df[\"time to get to water source (minutes)\"].fillna(-1, inplace=True)\n",
    "for col in df.columns:\n",
    "    df.fillna(\"?\", inplace=True)\n",
    "    val = dumy[col].unique()\n",
    "    Train[col] = [rand.choice(val) if(i==\"?\" or i==-1) else i for i in df[col]]\n",
    "Train.shape, df.shape"
   ]
  },
  {
   "cell_type": "markdown",
   "id": "16323e37",
   "metadata": {},
   "source": [
    "# Data Preprocessing"
   ]
  },
  {
   "cell_type": "code",
   "execution_count": 4,
   "id": "98e93e2b",
   "metadata": {},
   "outputs": [
    {
     "data": {
      "text/html": [
       "<div>\n",
       "<style scoped>\n",
       "    .dataframe tbody tr th:only-of-type {\n",
       "        vertical-align: middle;\n",
       "    }\n",
       "\n",
       "    .dataframe tbody tr th {\n",
       "        vertical-align: top;\n",
       "    }\n",
       "\n",
       "    .dataframe thead th {\n",
       "        text-align: right;\n",
       "    }\n",
       "</style>\n",
       "<table border=\"1\" class=\"dataframe\">\n",
       "  <thead>\n",
       "    <tr style=\"text-align: right;\">\n",
       "      <th></th>\n",
       "      <th>source of drinking water (simplified)</th>\n",
       "      <th>time to get to water source (minutes)</th>\n",
       "      <th>location of source for water</th>\n",
       "    </tr>\n",
       "  </thead>\n",
       "  <tbody>\n",
       "    <tr>\n",
       "      <th>0</th>\n",
       "      <td>piped into dwelling</td>\n",
       "      <td>-1.0</td>\n",
       "      <td>?</td>\n",
       "    </tr>\n",
       "    <tr>\n",
       "      <th>1</th>\n",
       "      <td>piped into dwelling</td>\n",
       "      <td>-1.0</td>\n",
       "      <td>?</td>\n",
       "    </tr>\n",
       "    <tr>\n",
       "      <th>2</th>\n",
       "      <td>piped into dwelling</td>\n",
       "      <td>-1.0</td>\n",
       "      <td>?</td>\n",
       "    </tr>\n",
       "    <tr>\n",
       "      <th>3</th>\n",
       "      <td>piped into dwelling</td>\n",
       "      <td>-1.0</td>\n",
       "      <td>?</td>\n",
       "    </tr>\n",
       "    <tr>\n",
       "      <th>4</th>\n",
       "      <td>piped into dwelling</td>\n",
       "      <td>-1.0</td>\n",
       "      <td>?</td>\n",
       "    </tr>\n",
       "  </tbody>\n",
       "</table>\n",
       "</div>"
      ],
      "text/plain": [
       "  source of drinking water (simplified)  \\\n",
       "0                   piped into dwelling   \n",
       "1                   piped into dwelling   \n",
       "2                   piped into dwelling   \n",
       "3                   piped into dwelling   \n",
       "4                   piped into dwelling   \n",
       "\n",
       "   time to get to water source (minutes) location of source for water  \n",
       "0                                   -1.0                            ?  \n",
       "1                                   -1.0                            ?  \n",
       "2                                   -1.0                            ?  \n",
       "3                                   -1.0                            ?  \n",
       "4                                   -1.0                            ?  "
      ]
     },
     "execution_count": 4,
     "metadata": {},
     "output_type": "execute_result"
    }
   ],
   "source": [
    "df.head()"
   ]
  },
  {
   "cell_type": "code",
   "execution_count": 5,
   "id": "dcb4507a",
   "metadata": {},
   "outputs": [
    {
     "data": {
      "text/html": [
       "<div>\n",
       "<style scoped>\n",
       "    .dataframe tbody tr th:only-of-type {\n",
       "        vertical-align: middle;\n",
       "    }\n",
       "\n",
       "    .dataframe tbody tr th {\n",
       "        vertical-align: top;\n",
       "    }\n",
       "\n",
       "    .dataframe thead th {\n",
       "        text-align: right;\n",
       "    }\n",
       "</style>\n",
       "<table border=\"1\" class=\"dataframe\">\n",
       "  <thead>\n",
       "    <tr style=\"text-align: right;\">\n",
       "      <th></th>\n",
       "      <th>source of drinking water (simplified)</th>\n",
       "      <th>time to get to water source (minutes)</th>\n",
       "      <th>location of source for water</th>\n",
       "    </tr>\n",
       "  </thead>\n",
       "  <tbody>\n",
       "    <tr>\n",
       "      <th>0</th>\n",
       "      <td>piped into dwelling</td>\n",
       "      <td>100.0</td>\n",
       "      <td>in own yard/plot</td>\n",
       "    </tr>\n",
       "    <tr>\n",
       "      <th>1</th>\n",
       "      <td>piped into dwelling</td>\n",
       "      <td>182.0</td>\n",
       "      <td>in own yard/plot</td>\n",
       "    </tr>\n",
       "    <tr>\n",
       "      <th>2</th>\n",
       "      <td>piped into dwelling</td>\n",
       "      <td>57.0</td>\n",
       "      <td>elsewhere</td>\n",
       "    </tr>\n",
       "    <tr>\n",
       "      <th>3</th>\n",
       "      <td>piped into dwelling</td>\n",
       "      <td>39.0</td>\n",
       "      <td>in own dwelling</td>\n",
       "    </tr>\n",
       "    <tr>\n",
       "      <th>4</th>\n",
       "      <td>piped into dwelling</td>\n",
       "      <td>164.0</td>\n",
       "      <td>in own dwelling</td>\n",
       "    </tr>\n",
       "  </tbody>\n",
       "</table>\n",
       "</div>"
      ],
      "text/plain": [
       "  source of drinking water (simplified)  \\\n",
       "0                   piped into dwelling   \n",
       "1                   piped into dwelling   \n",
       "2                   piped into dwelling   \n",
       "3                   piped into dwelling   \n",
       "4                   piped into dwelling   \n",
       "\n",
       "   time to get to water source (minutes) location of source for water  \n",
       "0                                  100.0             in own yard/plot  \n",
       "1                                  182.0             in own yard/plot  \n",
       "2                                   57.0                    elsewhere  \n",
       "3                                   39.0              in own dwelling  \n",
       "4                                  164.0              in own dwelling  "
      ]
     },
     "execution_count": 5,
     "metadata": {},
     "output_type": "execute_result"
    }
   ],
   "source": [
    "Train.head()"
   ]
  },
  {
   "cell_type": "code",
   "execution_count": 6,
   "id": "340c633e",
   "metadata": {},
   "outputs": [],
   "source": [
    "#encoding Data into labels by Label encoder from sklearn\n",
    "lb = LabelEncoder()\n",
    "temp = temp.dropna()\n",
    "Temp = []\n",
    "for i in df.columns:\n",
    "    if i == \"time to get to water source (minutes)\":\n",
    "        continue\n",
    "    Temp.extend(temp[i].unique())\n",
    "Temp.append(\"?\")\n",
    "lb.fit(Temp)\n",
    "for i in df.columns:\n",
    "    if i == \"time to get to water source (minutes)\":\n",
    "        continue\n",
    "    df[i] = lb.transform(df[i])\n",
    "    Train[i] = lb.transform(Train[i])"
   ]
  },
  {
   "cell_type": "code",
   "execution_count": 7,
   "id": "39b2222a",
   "metadata": {},
   "outputs": [
    {
     "data": {
      "text/html": [
       "<div>\n",
       "<style scoped>\n",
       "    .dataframe tbody tr th:only-of-type {\n",
       "        vertical-align: middle;\n",
       "    }\n",
       "\n",
       "    .dataframe tbody tr th {\n",
       "        vertical-align: top;\n",
       "    }\n",
       "\n",
       "    .dataframe thead th {\n",
       "        text-align: right;\n",
       "    }\n",
       "</style>\n",
       "<table border=\"1\" class=\"dataframe\">\n",
       "  <thead>\n",
       "    <tr style=\"text-align: right;\">\n",
       "      <th></th>\n",
       "      <th>source of drinking water (simplified)</th>\n",
       "      <th>time to get to water source (minutes)</th>\n",
       "      <th>location of source for water</th>\n",
       "    </tr>\n",
       "  </thead>\n",
       "  <tbody>\n",
       "    <tr>\n",
       "      <th>0</th>\n",
       "      <td>7</td>\n",
       "      <td>-1.0</td>\n",
       "      <td>0</td>\n",
       "    </tr>\n",
       "    <tr>\n",
       "      <th>1</th>\n",
       "      <td>7</td>\n",
       "      <td>-1.0</td>\n",
       "      <td>0</td>\n",
       "    </tr>\n",
       "    <tr>\n",
       "      <th>2</th>\n",
       "      <td>7</td>\n",
       "      <td>-1.0</td>\n",
       "      <td>0</td>\n",
       "    </tr>\n",
       "    <tr>\n",
       "      <th>3</th>\n",
       "      <td>7</td>\n",
       "      <td>-1.0</td>\n",
       "      <td>0</td>\n",
       "    </tr>\n",
       "    <tr>\n",
       "      <th>4</th>\n",
       "      <td>7</td>\n",
       "      <td>-1.0</td>\n",
       "      <td>0</td>\n",
       "    </tr>\n",
       "  </tbody>\n",
       "</table>\n",
       "</div>"
      ],
      "text/plain": [
       "   source of drinking water (simplified)  \\\n",
       "0                                      7   \n",
       "1                                      7   \n",
       "2                                      7   \n",
       "3                                      7   \n",
       "4                                      7   \n",
       "\n",
       "   time to get to water source (minutes)  location of source for water  \n",
       "0                                   -1.0                             0  \n",
       "1                                   -1.0                             0  \n",
       "2                                   -1.0                             0  \n",
       "3                                   -1.0                             0  \n",
       "4                                   -1.0                             0  "
      ]
     },
     "execution_count": 7,
     "metadata": {},
     "output_type": "execute_result"
    }
   ],
   "source": [
    "df.head()"
   ]
  },
  {
   "cell_type": "code",
   "execution_count": 8,
   "id": "98449c33",
   "metadata": {},
   "outputs": [
    {
     "data": {
      "text/html": [
       "<div>\n",
       "<style scoped>\n",
       "    .dataframe tbody tr th:only-of-type {\n",
       "        vertical-align: middle;\n",
       "    }\n",
       "\n",
       "    .dataframe tbody tr th {\n",
       "        vertical-align: top;\n",
       "    }\n",
       "\n",
       "    .dataframe thead th {\n",
       "        text-align: right;\n",
       "    }\n",
       "</style>\n",
       "<table border=\"1\" class=\"dataframe\">\n",
       "  <thead>\n",
       "    <tr style=\"text-align: right;\">\n",
       "      <th></th>\n",
       "      <th>source of drinking water (simplified)</th>\n",
       "      <th>time to get to water source (minutes)</th>\n",
       "      <th>location of source for water</th>\n",
       "    </tr>\n",
       "  </thead>\n",
       "  <tbody>\n",
       "    <tr>\n",
       "      <th>0</th>\n",
       "      <td>7</td>\n",
       "      <td>100.0</td>\n",
       "      <td>5</td>\n",
       "    </tr>\n",
       "    <tr>\n",
       "      <th>1</th>\n",
       "      <td>7</td>\n",
       "      <td>182.0</td>\n",
       "      <td>5</td>\n",
       "    </tr>\n",
       "    <tr>\n",
       "      <th>2</th>\n",
       "      <td>7</td>\n",
       "      <td>57.0</td>\n",
       "      <td>3</td>\n",
       "    </tr>\n",
       "    <tr>\n",
       "      <th>3</th>\n",
       "      <td>7</td>\n",
       "      <td>39.0</td>\n",
       "      <td>4</td>\n",
       "    </tr>\n",
       "    <tr>\n",
       "      <th>4</th>\n",
       "      <td>7</td>\n",
       "      <td>164.0</td>\n",
       "      <td>4</td>\n",
       "    </tr>\n",
       "  </tbody>\n",
       "</table>\n",
       "</div>"
      ],
      "text/plain": [
       "   source of drinking water (simplified)  \\\n",
       "0                                      7   \n",
       "1                                      7   \n",
       "2                                      7   \n",
       "3                                      7   \n",
       "4                                      7   \n",
       "\n",
       "   time to get to water source (minutes)  location of source for water  \n",
       "0                                  100.0                             5  \n",
       "1                                  182.0                             5  \n",
       "2                                   57.0                             3  \n",
       "3                                   39.0                             4  \n",
       "4                                  164.0                             4  "
      ]
     },
     "execution_count": 8,
     "metadata": {},
     "output_type": "execute_result"
    }
   ],
   "source": [
    "Train.head()"
   ]
  },
  {
   "cell_type": "markdown",
   "id": "c95d17fc",
   "metadata": {},
   "source": [
    "# Modeling and Learning"
   ]
  },
  {
   "cell_type": "code",
   "execution_count": 9,
   "id": "5ffb18af",
   "metadata": {},
   "outputs": [
    {
     "name": "stderr",
     "output_type": "stream",
     "text": [
      "2023-02-24 11:26:17.889570: E tensorflow/compiler/xla/stream_executor/cuda/cuda_driver.cc:267] failed call to cuInit: CUDA_ERROR_UNKNOWN: unknown error\n",
      "2023-02-24 11:26:17.889616: I tensorflow/compiler/xla/stream_executor/cuda/cuda_diagnostics.cc:156] kernel driver does not appear to be running on this host (Hassan-Ibrar): /proc/driver/nvidia/version does not exist\n"
     ]
    },
    {
     "name": "stdout",
     "output_type": "stream",
     "text": [
      "Model: \"sequential\"\n",
      "_________________________________________________________________\n",
      " Layer (type)                Output Shape              Param #   \n",
      "=================================================================\n",
      " dense (Dense)               (None, 256)               1024      \n",
      "                                                                 \n",
      " dense_1 (Dense)             (None, 128)               32896     \n",
      "                                                                 \n",
      " dense_2 (Dense)             (None, 64)                8256      \n",
      "                                                                 \n",
      " dense_3 (Dense)             (None, 32)                2080      \n",
      "                                                                 \n",
      " dense_4 (Dense)             (None, 16)                528       \n",
      "                                                                 \n",
      " dense_5 (Dense)             (None, 32)                544       \n",
      "                                                                 \n",
      " dense_6 (Dense)             (None, 64)                2112      \n",
      "                                                                 \n",
      " dense_7 (Dense)             (None, 128)               8320      \n",
      "                                                                 \n",
      " dense_8 (Dense)             (None, 256)               33024     \n",
      "                                                                 \n",
      " dense_9 (Dense)             (None, 3)                 771       \n",
      "                                                                 \n",
      "=================================================================\n",
      "Total params: 89,555\n",
      "Trainable params: 89,555\n",
      "Non-trainable params: 0\n",
      "_________________________________________________________________\n"
     ]
    }
   ],
   "source": [
    "#creating a simple multilayered auto-encoder model\n",
    "model = Sequential()\n",
    "\n",
    "model.add(Dense(256, activation=\"relu\", input_shape=(3,)))\n",
    "model.add(Dense(128, activation=\"relu\"))\n",
    "model.add(Dense(64, activation=\"relu\"))\n",
    "model.add(Dense(32, activation=\"relu\"))\n",
    "model.add(Dense(16, activation=\"relu\"))\n",
    "model.add(Dense(32, activation=\"relu\"))\n",
    "model.add(Dense(64, activation=\"relu\"))\n",
    "model.add(Dense(128, activation=\"relu\"))\n",
    "model.add(Dense(256, activation=\"relu\"))\n",
    "model.add(Dense(3, activation=\"relu\"))\n",
    "\n",
    "model.summary()"
   ]
  },
  {
   "cell_type": "code",
   "execution_count": null,
   "id": "87195261",
   "metadata": {
    "scrolled": true
   },
   "outputs": [
    {
     "name": "stdout",
     "output_type": "stream",
     "text": [
      "Epoch 1/10\n",
      "30333/30333 [==============================] - 118s 4ms/step - loss: 1278.4420 - root_mean_squared_error: 35.7553\n",
      "Epoch 2/10\n",
      "30333/30333 [==============================] - 113s 4ms/step - loss: 1247.4634 - root_mean_squared_error: 35.3196\n",
      "Epoch 3/10\n",
      "30333/30333 [==============================] - 114s 4ms/step - loss: 1236.1482 - root_mean_squared_error: 35.1588\n",
      "Epoch 4/10\n",
      "16549/30333 [===============>..............] - ETA: 52s - loss: 1215.1198 - root_mean_squared_error: 34.8585"
     ]
    }
   ],
   "source": [
    "#compiling model(adding hyperparameters)\n",
    "model.compile(loss=\"MSE\", optimizer=\"adam\", metrics=[tf.keras.metrics.RootMeanSquaredError()])\n",
    "history = model.fit(np.array(df),np.array(Train), epochs=10)"
   ]
  },
  {
   "cell_type": "markdown",
   "id": "58866f0a",
   "metadata": {},
   "source": [
    "# Result"
   ]
  },
  {
   "cell_type": "code",
   "execution_count": null,
   "id": "41836535",
   "metadata": {},
   "outputs": [],
   "source": [
    "#printing loss graph\n",
    "plt.subplot(2,1,1)\n",
    "plt.plot(history.history[\"root_mean_squared_error\"], color='orange')\n",
    "plt.legend([\"RMSE\"])\n",
    "plt.title(\"RMSE\")\n",
    "plt.subplot(2,1,2)\n",
    "plt.plot(history.history[\"loss\"], color='green')\n",
    "plt.legend([\"MSE\"])\n",
    "plt.title(\"MSE\")\n",
    "plt.show()"
   ]
  },
  {
   "cell_type": "code",
   "execution_count": null,
   "id": "9d8066ec",
   "metadata": {},
   "outputs": [],
   "source": [
    "#predicting data from missing dataframe\n",
    "pre = model.predict(np.array(df))"
   ]
  },
  {
   "cell_type": "code",
   "execution_count": null,
   "id": "935bf12e",
   "metadata": {},
   "outputs": [],
   "source": [
    "#plotting real vs predicted values\n",
    "j=0\n",
    "for col in df.columns:\n",
    "    plt.scatter([i for i in range(100)], np.array(Train[col])[400:500], color=\"red\")\n",
    "    plt.scatter([i for i in range(100)], [i[j]*1.5 if j==2 else i[j] for i in pre[400:500]], color=\"green\")\n",
    "    plt.legend([\"Observed\", \"Predicted\", \"Observed_reg\", \"Predicted_reg\"])\n",
    "    plt.title(f\"Observed vs Predicted for column {col}\")\n",
    "    plt.show()\n",
    "    j+=1"
   ]
  },
  {
   "cell_type": "code",
   "execution_count": null,
   "id": "c405c78e",
   "metadata": {
    "scrolled": false
   },
   "outputs": [],
   "source": [
    "j=0\n",
    "for col in df.columns:\n",
    "    plt.scatter([i for i in range(100)], np.array(Train[col])[400:500], color=\"red\")\n",
    "    plt.scatter([i for i in range(100)], [i[j]*1.5 if j==2 else i[j] for i in pre[400:500]], color=\"green\")\n",
    "    plt.legend([\"Observed\", \"Predicted\", \"Observed_reg\", \"Predicted_reg\"])\n",
    "    plt.title(f\"Observed vs Predicted for column {col}\")\n",
    "    plt.show()\n",
    "    j+=1"
   ]
  },
  {
   "cell_type": "code",
   "execution_count": null,
   "id": "92465ce1",
   "metadata": {},
   "outputs": [],
   "source": [
    "c1 = []\n",
    "c2 = []\n",
    "c3 = []\n",
    "result = Train\n",
    "for i in pre:\n",
    "    c1.append(int(round(i[0], 0)))\n",
    "    c2.append(round(i[1], 0))\n",
    "    c3.append(int(round(i[2], 0)))\n",
    "result[\"time to get to water source (minutes)\"] = c2\n",
    "min_v = min(Train[\"source of drinking water (simplified)\"])\n",
    "max_v = max(Train[\"source of drinking water (simplified)\"])\n",
    "temp = []\n",
    "for i in c1:\n",
    "    i = float(i)\n",
    "    if i>max_v:\n",
    "        i = max_v\n",
    "    elif i<min_v:\n",
    "        i = min_v\n",
    "    else:\n",
    "        i = int(round(i, 0))\n",
    "    temp.append(lb.inverse_transform([i])[0])\n",
    "result[\"source of drinking water (simplified)\"] = temp\n",
    "min_v = min(Train[\"location of source for water\"])\n",
    "max_v = max(Train[\"location of source for water\"])\n",
    "temp = []\n",
    "for i in c3:\n",
    "    i = float(i)\n",
    "    if i>max_v:\n",
    "        i = max_v\n",
    "    elif i<min_v:\n",
    "        i = min_v\n",
    "    i = int(round(i, 0))\n",
    "    temp.append(lb.inverse_transform([i])[0])\n",
    "result[\"location of source for water\"] = temp\n",
    "result.head()"
   ]
  },
  {
   "cell_type": "markdown",
   "id": "6755615f",
   "metadata": {},
   "source": [
    "# Checking the accuracy of the model by giving missing values"
   ]
  },
  {
   "cell_type": "code",
   "execution_count": null,
   "id": "9ea0f9d6",
   "metadata": {},
   "outputs": [],
   "source": [
    "#reading data from cvs\n",
    "df = pd.read_csv(\"ultimate_data.csv\").drop(\"Unnamed: 0\", axis=1)\n",
    "df.head()"
   ]
  },
  {
   "cell_type": "code",
   "execution_count": null,
   "id": "1e81e706",
   "metadata": {},
   "outputs": [],
   "source": [
    "#spliltiing missing data and entrrying random values to the newly created data frame(only missing values)\n",
    "Train = pd.DataFrame()\n",
    "dumy, df = df.dropna(), df\n",
    "temp = dumy\n",
    "df[\"time to get to water source (minutes)\"].fillna(-1, inplace=True)\n",
    "for col in df.columns:\n",
    "    df.fillna(\"?\", inplace=True)\n",
    "    val = dumy[col].unique()\n",
    "    Train[col] = [rand.choice(val) if(i==\"?\" or i==-1) else i for i in df[col]]\n",
    "Train.shape, df.shape"
   ]
  },
  {
   "cell_type": "code",
   "execution_count": null,
   "id": "3aa9db70",
   "metadata": {},
   "outputs": [],
   "source": [
    "#encoding Data into labels by Label encoder from sklearn\n",
    "lb = LabelEncoder()\n",
    "temp = temp.dropna()\n",
    "Temp = []\n",
    "for i in df.columns:\n",
    "    if i == \"time to get to water source (minutes)\":\n",
    "        continue\n",
    "    Temp.extend(temp[i].unique())\n",
    "Temp.append(\"?\")\n",
    "lb.fit(Temp)\n",
    "for i in df.columns:\n",
    "    if i == \"time to get to water source (minutes)\":\n",
    "        continue\n",
    "    df[i] = lb.transform(df[i])\n",
    "    Train[i] = lb.transform(Train[i])"
   ]
  },
  {
   "cell_type": "code",
   "execution_count": null,
   "id": "4efc9052",
   "metadata": {},
   "outputs": [],
   "source": [
    "history = model.fit(np.array(Train),np.array(Train), epochs=10)"
   ]
  },
  {
   "cell_type": "code",
   "execution_count": null,
   "id": "5ea444f2",
   "metadata": {},
   "outputs": [],
   "source": [
    "plt.subplot(2,1,1)\n",
    "plt.plot(history.history[\"root_mean_squared_error\"], color='orange')\n",
    "plt.legend([\"RMSE\"])\n",
    "plt.title(\"RMSE\")\n",
    "plt.subplot(2,1,2)\n",
    "plt.plot(history.history[\"loss\"], color='green')\n",
    "plt.legend([\"MSE\"])\n",
    "plt.title(\"MSE\")\n",
    "plt.show()"
   ]
  },
  {
   "cell_type": "code",
   "execution_count": null,
   "id": "b428bf49",
   "metadata": {},
   "outputs": [],
   "source": [
    "pre = model.predict(np.array(Train))"
   ]
  },
  {
   "cell_type": "code",
   "execution_count": null,
   "id": "74994b28",
   "metadata": {},
   "outputs": [],
   "source": [
    "j=0\n",
    "for col in df.columns:\n",
    "    plt.scatter([i for i in range(100)], np.array(Train[col])[400:500], color=\"red\")\n",
    "    plt.scatter([i for i in range(100)], [i[j]*1.5 if j==2 else i[j] for i in pre[400:500]], color=\"green\")\n",
    "    sns.regplot([i for i in range(100)], np.array(Train[col])[400:500], line_kws={'color':'orange'})\n",
    "    sns.regplot([i for i in range(100)], [i[j] for i in pre[400:500]], line_kws={'color':'blue'})\n",
    "    plt.legend([\"Observed\", \"Predicted\", \"Observed_reg\", \"Predicted_reg\"])\n",
    "    plt.title(f\"Observed vs Predicted for column {col}\")\n",
    "    plt.show()\n",
    "    j+=1"
   ]
  },
  {
   "cell_type": "code",
   "execution_count": null,
   "id": "47ddea6a",
   "metadata": {},
   "outputs": [],
   "source": [
    "j=0\n",
    "for col in df.columns:\n",
    "    plt.scatter([i for i in range(100)], np.array(Train[col])[400:500], color=\"red\")\n",
    "    plt.scatter([i for i in range(100)], [i[j]*1.5 if j==2 else i[j] for i in pre[400:500]], color=\"green\")\n",
    "    #sns.residplot([i for i in range(100)], np.array(Train[col])[400:500], line_kws={'color':'orange'})\n",
    "    #sns.residplot([i for i in range(100)], [i[j] for i in pre[400:500]], line_kws={'color':'blue'})\n",
    "    plt.legend([\"Observed\", \"Predicted\", \"Observed_reg\", \"Predicted_reg\"])\n",
    "    plt.title(f\"Observed vs Predicted for column {col}\")\n",
    "    plt.show()\n",
    "    j+=1"
   ]
  },
  {
   "cell_type": "code",
   "execution_count": null,
   "id": "ddc86489",
   "metadata": {},
   "outputs": [],
   "source": [
    "c1 = []\n",
    "c2 = []\n",
    "c3 = []\n",
    "result = Train\n",
    "for i in pre:\n",
    "    c1.append(int(round(i[0], 0)))\n",
    "    c2.append(round(i[1], 0))\n",
    "    c3.append(int(round(i[2], 0)))\n",
    "result[\"time to get to water source (minutes)\"] = c2\n",
    "min_v = min(Train[\"source of drinking water (simplified)\"])\n",
    "max_v = max(Train[\"source of drinking water (simplified)\"])\n",
    "temp = []\n",
    "for i in c1:\n",
    "    i = float(i)\n",
    "    if i>max_v:\n",
    "        i = max_v\n",
    "    elif i<min_v:\n",
    "        i = min_v\n",
    "    else:\n",
    "        i = int(round(i, 0))\n",
    "    temp.append(lb.inverse_transform([i])[0])\n",
    "result[\"source of drinking water (simplified)\"] = temp\n",
    "min_v = min(Train[\"location of source for water\"])\n",
    "max_v = max(Train[\"location of source for water\"])\n",
    "temp = []\n",
    "for i in c3:\n",
    "    i = float(i)\n",
    "    if i>max_v:\n",
    "        i = max_v\n",
    "    elif i<min_v:\n",
    "        i = min_v\n",
    "    i = int(round(i, 0))\n",
    "    temp.append(lb.inverse_transform([i])[0])\n",
    "result[\"location of source for water\"] = temp\n",
    "result.head()"
   ]
  },
  {
   "cell_type": "code",
   "execution_count": null,
   "id": "47b135e5",
   "metadata": {},
   "outputs": [],
   "source": []
  },
  {
   "cell_type": "code",
   "execution_count": null,
   "id": "c94fde46",
   "metadata": {},
   "outputs": [],
   "source": []
  }
 ],
 "metadata": {
  "kernelspec": {
   "display_name": "Python 3 (ipykernel)",
   "language": "python",
   "name": "python3"
  },
  "language_info": {
   "codemirror_mode": {
    "name": "ipython",
    "version": 3
   },
   "file_extension": ".py",
   "mimetype": "text/x-python",
   "name": "python",
   "nbconvert_exporter": "python",
   "pygments_lexer": "ipython3",
   "version": "3.9.13"
  }
 },
 "nbformat": 4,
 "nbformat_minor": 5
}
