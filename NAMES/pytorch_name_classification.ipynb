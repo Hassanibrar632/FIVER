{
  "cells": [
    {
      "cell_type": "markdown",
      "id": "f89434a8",
      "metadata": {
        "papermill": {
          "duration": 0.006927,
          "end_time": "2023-01-17T17:51:40.894212",
          "exception": false,
          "start_time": "2023-01-17T17:51:40.887285",
          "status": "completed"
        },
        "tags": [],
        "id": "f89434a8"
      },
      "source": [
        "# PyTorch Recurrent Neural Network\n",
        "Based off this PyTorch [tutorial](https://pytorch.org/tutorials/intermediate/char_rnn_classification_tutorial.html)"
      ]
    },
    {
      "cell_type": "code",
      "execution_count": 1,
      "id": "0cd3c6cb",
      "metadata": {
        "execution": {
          "iopub.execute_input": "2023-01-17T17:51:40.908305Z",
          "iopub.status.busy": "2023-01-17T17:51:40.907538Z",
          "iopub.status.idle": "2023-01-17T17:51:40.919414Z",
          "shell.execute_reply": "2023-01-17T17:51:40.918504Z"
        },
        "papermill": {
          "duration": 0.021429,
          "end_time": "2023-01-17T17:51:40.921679",
          "exception": false,
          "start_time": "2023-01-17T17:51:40.900250",
          "status": "completed"
        },
        "tags": [],
        "id": "0cd3c6cb"
      },
      "outputs": [],
      "source": [
        "from __future__ import unicode_literals, print_function, division\n",
        "from io import open\n",
        "import glob\n",
        "import os\n",
        "\n",
        "import unicodedata\n",
        "import string"
      ]
    },
    {
      "cell_type": "code",
      "execution_count": 2,
      "id": "e76d4db7",
      "metadata": {
        "execution": {
          "iopub.execute_input": "2023-01-17T17:51:40.935465Z",
          "iopub.status.busy": "2023-01-17T17:51:40.935088Z",
          "iopub.status.idle": "2023-01-17T17:51:40.941958Z",
          "shell.execute_reply": "2023-01-17T17:51:40.940985Z"
        },
        "papermill": {
          "duration": 0.015902,
          "end_time": "2023-01-17T17:51:40.943930",
          "exception": false,
          "start_time": "2023-01-17T17:51:40.928028",
          "status": "completed"
        },
        "tags": [],
        "id": "e76d4db7"
      },
      "outputs": [],
      "source": [
        "def findFiles(path): return glob.glob(path)\n",
        "\n",
        "\n",
        "all_letters = string.ascii_letters + \" .,;'\"\n",
        "n_letters = len(all_letters)\n",
        "\n",
        "def unicodeToAscii(s):\n",
        "    return ''.join(\n",
        "        c for c in unicodedata.normalize('NFD', s)\n",
        "        if unicodedata.category(c) != 'Mn'\n",
        "        and c in all_letters\n",
        "    )\n",
        "\n",
        "\n",
        "# Read a file and split into lines\n",
        "def readLines(filename):\n",
        "    lines = open(filename, encoding='utf-8').read().strip().split('\\n')\n",
        "    return [unicodeToAscii(line) for line in lines]\n"
      ]
    },
    {
      "cell_type": "code",
      "execution_count": 3,
      "id": "6d298ebd",
      "metadata": {
        "execution": {
          "iopub.execute_input": "2023-01-17T17:51:40.956965Z",
          "iopub.status.busy": "2023-01-17T17:51:40.956677Z",
          "iopub.status.idle": "2023-01-17T17:51:41.093142Z",
          "shell.execute_reply": "2023-01-17T17:51:41.092385Z"
        },
        "papermill": {
          "duration": 0.145549,
          "end_time": "2023-01-17T17:51:41.095281",
          "exception": false,
          "start_time": "2023-01-17T17:51:40.949732",
          "status": "completed"
        },
        "tags": [],
        "id": "6d298ebd"
      },
      "outputs": [],
      "source": [
        "category_lines = {}\n",
        "all_categories = []\n",
        "\n",
        "for filename in findFiles('./data/names/*.txt'):\n",
        "    category = os.path.splitext(os.path.basename(filename))[0]\n",
        "    all_categories.append(category)\n",
        "    lines = readLines(filename)\n",
        "    category_lines[category] = lines\n",
        "\n",
        "n_categories = len(all_categories)"
      ]
    },
    {
      "cell_type": "code",
      "execution_count": 4,
      "id": "97d8438e",
      "metadata": {
        "execution": {
          "iopub.execute_input": "2023-01-17T17:51:41.109170Z",
          "iopub.status.busy": "2023-01-17T17:51:41.108241Z",
          "iopub.status.idle": "2023-01-17T17:51:41.113481Z",
          "shell.execute_reply": "2023-01-17T17:51:41.112602Z"
        },
        "papermill": {
          "duration": 0.015888,
          "end_time": "2023-01-17T17:51:41.117199",
          "exception": false,
          "start_time": "2023-01-17T17:51:41.101311",
          "status": "completed"
        },
        "tags": [],
        "colab": {
          "base_uri": "https://localhost:8080/"
        },
        "id": "97d8438e",
        "outputId": "32b977dd-1238-49b0-eb8c-93b38d066d0c"
      },
      "outputs": [
        {
          "output_type": "stream",
          "name": "stdout",
          "text": [
            "Slusarski\n"
          ]
        }
      ],
      "source": [
        "print(unicodeToAscii('Ślusàrski'))"
      ]
    },
    {
      "cell_type": "code",
      "execution_count": 5,
      "id": "c2ea7130",
      "metadata": {
        "execution": {
          "iopub.execute_input": "2023-01-17T17:51:41.130053Z",
          "iopub.status.busy": "2023-01-17T17:51:41.129746Z",
          "iopub.status.idle": "2023-01-17T17:51:41.134260Z",
          "shell.execute_reply": "2023-01-17T17:51:41.133433Z"
        },
        "papermill": {
          "duration": 0.012747,
          "end_time": "2023-01-17T17:51:41.136252",
          "exception": false,
          "start_time": "2023-01-17T17:51:41.123505",
          "status": "completed"
        },
        "tags": [],
        "colab": {
          "base_uri": "https://localhost:8080/"
        },
        "id": "c2ea7130",
        "outputId": "29d34631-83dd-4cce-a9d0-06ca71a96c55"
      },
      "outputs": [
        {
          "output_type": "stream",
          "name": "stdout",
          "text": [
            "['Abandonato', 'Abatangelo', 'Abatantuono', 'Abate', 'Abategiovanni']\n"
          ]
        }
      ],
      "source": [
        "print(category_lines['Italian'][:5])"
      ]
    },
    {
      "cell_type": "code",
      "execution_count": 6,
      "id": "8015ad38",
      "metadata": {
        "execution": {
          "iopub.execute_input": "2023-01-17T17:51:41.149854Z",
          "iopub.status.busy": "2023-01-17T17:51:41.149148Z",
          "iopub.status.idle": "2023-01-17T17:51:42.706015Z",
          "shell.execute_reply": "2023-01-17T17:51:42.704546Z"
        },
        "papermill": {
          "duration": 1.566799,
          "end_time": "2023-01-17T17:51:42.709034",
          "exception": false,
          "start_time": "2023-01-17T17:51:41.142235",
          "status": "completed"
        },
        "tags": [],
        "colab": {
          "base_uri": "https://localhost:8080/"
        },
        "id": "8015ad38",
        "outputId": "13c8402c-da79-4193-e873-32cb7313691d"
      },
      "outputs": [
        {
          "output_type": "stream",
          "name": "stdout",
          "text": [
            "tensor([[0., 0., 0., 0., 0., 0., 0., 0., 0., 0., 0., 0., 0., 0., 0., 0., 0., 0.,\n",
            "         0., 0., 0., 0., 0., 0., 0., 0., 0., 0., 0., 0., 0., 0., 0., 0., 0., 1.,\n",
            "         0., 0., 0., 0., 0., 0., 0., 0., 0., 0., 0., 0., 0., 0., 0., 0., 0., 0.,\n",
            "         0., 0., 0.]])\n",
            "torch.Size([5, 1, 57])\n"
          ]
        }
      ],
      "source": [
        "import torch\n",
        "\n",
        "# Find letter index from all_letters, e.g. \"a\" = 0\n",
        "def letterToIndex(letter):\n",
        "    return all_letters.find(letter)\n",
        "\n",
        "# Just for demonstration, turn a letter into a <1 x n_letters> Tensor\n",
        "def letterToTensor(letter):\n",
        "    tensor = torch.zeros(1, n_letters)\n",
        "    tensor[0][letterToIndex(letter)] = 1\n",
        "    return tensor\n",
        "\n",
        "# Turn a line into a <line_length x 1 x n_letters>,\n",
        "# or an array of one-hot letter vectors\n",
        "def lineToTensor(line):\n",
        "    tensor = torch.zeros(len(line), 1, n_letters)\n",
        "    for li, letter in enumerate(line):\n",
        "        tensor[li][0][letterToIndex(letter)] = 1\n",
        "    return tensor\n",
        "\n",
        "print(letterToTensor('J'))\n",
        "\n",
        "print(lineToTensor('Jones').size())"
      ]
    },
    {
      "cell_type": "markdown",
      "id": "b0cb394e",
      "metadata": {
        "papermill": {
          "duration": 0.009457,
          "end_time": "2023-01-17T17:51:42.727612",
          "exception": false,
          "start_time": "2023-01-17T17:51:42.718155",
          "status": "completed"
        },
        "tags": [],
        "id": "b0cb394e"
      },
      "source": [
        "## Create the Network\n",
        "Using PyTorch the 'recurrent' part can be entirely handled by the graph itself. Meaning we can implement a RNN as a regular feed-forward layers."
      ]
    },
    {
      "cell_type": "markdown",
      "id": "1706821f",
      "metadata": {
        "papermill": {
          "duration": 0.007502,
          "end_time": "2023-01-17T17:51:42.744453",
          "exception": false,
          "start_time": "2023-01-17T17:51:42.736951",
          "status": "completed"
        },
        "tags": [],
        "id": "1706821f"
      },
      "source": [
        "![](https://i.imgur.com/Z2xbySO.png)"
      ]
    },
    {
      "cell_type": "code",
      "execution_count": 7,
      "id": "e9beb67b",
      "metadata": {
        "execution": {
          "iopub.execute_input": "2023-01-17T17:51:42.762945Z",
          "iopub.status.busy": "2023-01-17T17:51:42.762388Z",
          "iopub.status.idle": "2023-01-17T17:51:42.770997Z",
          "shell.execute_reply": "2023-01-17T17:51:42.769934Z"
        },
        "papermill": {
          "duration": 0.019371,
          "end_time": "2023-01-17T17:51:42.773292",
          "exception": false,
          "start_time": "2023-01-17T17:51:42.753921",
          "status": "completed"
        },
        "tags": [],
        "id": "e9beb67b"
      },
      "outputs": [],
      "source": [
        "import torch.nn as nn\n",
        "\n",
        "class RNN(nn.Module):\n",
        "    def __init__(self, input_size, hidden_size, output_size):\n",
        "        super(RNN, self).__init__()\n",
        "        \n",
        "        self.hidden_size = hidden_size\n",
        "        \n",
        "        self.i2h = nn.Linear(input_size + hidden_size, hidden_size)\n",
        "        self.i2o = nn.Linear(input_size + hidden_size, output_size)\n",
        "        self.softmax = nn.LogSoftmax(dim=1)\n",
        "    \n",
        "    def forward(self, x, hidden):\n",
        "        combined = torch.cat((x, hidden), 1)\n",
        "        hidden = self.i2h(combined)\n",
        "        output = self.i2o(combined)\n",
        "        output = self.softmax(output)\n",
        "        return output, hidden\n",
        "    \n",
        "    def initHidden(self):\n",
        "        return torch.zeros(1, self.hidden_size)\n",
        "\n",
        "    \n",
        "        "
      ]
    },
    {
      "cell_type": "code",
      "execution_count": 8,
      "id": "d929d982",
      "metadata": {
        "execution": {
          "iopub.execute_input": "2023-01-17T17:51:42.789505Z",
          "iopub.status.busy": "2023-01-17T17:51:42.788623Z",
          "iopub.status.idle": "2023-01-17T17:51:42.798887Z",
          "shell.execute_reply": "2023-01-17T17:51:42.797260Z"
        },
        "papermill": {
          "duration": 0.02103,
          "end_time": "2023-01-17T17:51:42.801196",
          "exception": false,
          "start_time": "2023-01-17T17:51:42.780166",
          "status": "completed"
        },
        "tags": [],
        "id": "d929d982"
      },
      "outputs": [],
      "source": [
        "n_hidden = 128\n",
        "rnn = RNN(n_letters, n_hidden, n_categories)"
      ]
    },
    {
      "cell_type": "code",
      "execution_count": 9,
      "id": "67ed9c93",
      "metadata": {
        "execution": {
          "iopub.execute_input": "2023-01-17T17:51:42.816095Z",
          "iopub.status.busy": "2023-01-17T17:51:42.815341Z",
          "iopub.status.idle": "2023-01-17T17:51:42.830344Z",
          "shell.execute_reply": "2023-01-17T17:51:42.829542Z"
        },
        "papermill": {
          "duration": 0.024874,
          "end_time": "2023-01-17T17:51:42.832317",
          "exception": false,
          "start_time": "2023-01-17T17:51:42.807443",
          "status": "completed"
        },
        "tags": [],
        "id": "67ed9c93"
      },
      "outputs": [],
      "source": [
        "my_input = letterToTensor('A')\n",
        "hidden = rnn.initHidden()\n",
        "\n",
        "output, next_hidden = rnn(my_input, hidden)"
      ]
    },
    {
      "cell_type": "code",
      "execution_count": 10,
      "id": "f994a077",
      "metadata": {
        "execution": {
          "iopub.execute_input": "2023-01-17T17:51:42.847759Z",
          "iopub.status.busy": "2023-01-17T17:51:42.847071Z",
          "iopub.status.idle": "2023-01-17T17:51:42.855777Z",
          "shell.execute_reply": "2023-01-17T17:51:42.854806Z"
        },
        "papermill": {
          "duration": 0.018261,
          "end_time": "2023-01-17T17:51:42.857528",
          "exception": false,
          "start_time": "2023-01-17T17:51:42.839267",
          "status": "completed"
        },
        "tags": [],
        "colab": {
          "base_uri": "https://localhost:8080/"
        },
        "id": "f994a077",
        "outputId": "2f8ae20e-b2c6-4d5f-b6d6-b79acf4537b1"
      },
      "outputs": [
        {
          "output_type": "execute_result",
          "data": {
            "text/plain": [
              "tensor([[-2.8583, -2.8685, -2.9257, -2.8926, -2.8447, -2.8479, -2.8877, -3.0408,\n",
              "         -2.9576, -2.8477, -2.8860, -2.9126, -2.8452, -2.9219, -2.8262, -2.9954,\n",
              "         -2.8924, -2.8058]], grad_fn=<LogSoftmaxBackward0>)"
            ]
          },
          "metadata": {},
          "execution_count": 10
        }
      ],
      "source": [
        "output"
      ]
    },
    {
      "cell_type": "markdown",
      "id": "bf190f0c",
      "metadata": {
        "papermill": {
          "duration": 0.005537,
          "end_time": "2023-01-17T17:51:42.869185",
          "exception": false,
          "start_time": "2023-01-17T17:51:42.863648",
          "status": "completed"
        },
        "tags": [],
        "id": "bf190f0c"
      },
      "source": [
        "##  Helpers"
      ]
    },
    {
      "cell_type": "code",
      "execution_count": 11,
      "id": "924b1f1d",
      "metadata": {
        "execution": {
          "iopub.execute_input": "2023-01-17T17:51:42.882707Z",
          "iopub.status.busy": "2023-01-17T17:51:42.882271Z",
          "iopub.status.idle": "2023-01-17T17:51:42.887202Z",
          "shell.execute_reply": "2023-01-17T17:51:42.886342Z"
        },
        "papermill": {
          "duration": 0.0141,
          "end_time": "2023-01-17T17:51:42.889219",
          "exception": false,
          "start_time": "2023-01-17T17:51:42.875119",
          "status": "completed"
        },
        "tags": [],
        "id": "924b1f1d"
      },
      "outputs": [],
      "source": [
        "def categoryFromOutput(output):\n",
        "    top_n, top_i = output.topk(1)\n",
        "    category_i = top_i[0].item()\n",
        "    return all_categories[category_i], category_i"
      ]
    },
    {
      "cell_type": "code",
      "execution_count": 12,
      "id": "4c9eb456",
      "metadata": {
        "execution": {
          "iopub.execute_input": "2023-01-17T17:51:42.901979Z",
          "iopub.status.busy": "2023-01-17T17:51:42.901717Z",
          "iopub.status.idle": "2023-01-17T17:51:42.911337Z",
          "shell.execute_reply": "2023-01-17T17:51:42.910007Z"
        },
        "papermill": {
          "duration": 0.018409,
          "end_time": "2023-01-17T17:51:42.913547",
          "exception": false,
          "start_time": "2023-01-17T17:51:42.895138",
          "status": "completed"
        },
        "tags": [],
        "colab": {
          "base_uri": "https://localhost:8080/"
        },
        "id": "4c9eb456",
        "outputId": "e9e1be7e-5708-4115-e7cc-0cd95819a733"
      },
      "outputs": [
        {
          "output_type": "stream",
          "name": "stdout",
          "text": [
            "('Spanish', 17)\n"
          ]
        }
      ],
      "source": [
        "print(categoryFromOutput(output))"
      ]
    },
    {
      "cell_type": "code",
      "execution_count": 13,
      "id": "23ec912e",
      "metadata": {
        "execution": {
          "iopub.execute_input": "2023-01-17T17:51:42.927164Z",
          "iopub.status.busy": "2023-01-17T17:51:42.926568Z",
          "iopub.status.idle": "2023-01-17T17:51:42.934333Z",
          "shell.execute_reply": "2023-01-17T17:51:42.933350Z"
        },
        "papermill": {
          "duration": 0.01706,
          "end_time": "2023-01-17T17:51:42.936380",
          "exception": false,
          "start_time": "2023-01-17T17:51:42.919320",
          "status": "completed"
        },
        "tags": [],
        "colab": {
          "base_uri": "https://localhost:8080/"
        },
        "id": "23ec912e",
        "outputId": "d7136ebc-4239-4660-b168-fce850db0dc4"
      },
      "outputs": [
        {
          "output_type": "stream",
          "name": "stdout",
          "text": [
            "category = Portuguese / line = Gouveia\n",
            "category = Polish / line = Rutkowski\n",
            "category = Vietnamese / line = Than\n",
            "category = Irish / line = Keefe\n",
            "category = Greek / line = Papadopulos\n",
            "category = Chinese / line = Yin\n",
            "category = Japanese / line = Ninomiya\n",
            "category = Korean / line = Ryom\n",
            "category = Portuguese / line = De santigo\n",
            "category = Japanese / line = Suzuki\n"
          ]
        }
      ],
      "source": [
        "import random\n",
        "\n",
        "def randomChoice(l):\n",
        "    return l[random.randint(0, len(l) - 1)]\n",
        "\n",
        "def randomTrainingExample():\n",
        "    category = randomChoice(all_categories)\n",
        "    line = randomChoice(category_lines[category])\n",
        "    category_tensor = torch.tensor([all_categories.index(category)], dtype=torch.long)\n",
        "    line_tensor = lineToTensor(line)\n",
        "    return category, line, category_tensor, line_tensor\n",
        "\n",
        "for i in range(10):\n",
        "    category, line, category_tensor, line_tensor = randomTrainingExample()\n",
        "    print('category =', category, '/ line =', line)"
      ]
    },
    {
      "cell_type": "code",
      "execution_count": 14,
      "id": "f0a62ce9",
      "metadata": {
        "execution": {
          "iopub.execute_input": "2023-01-17T17:51:42.949905Z",
          "iopub.status.busy": "2023-01-17T17:51:42.949642Z",
          "iopub.status.idle": "2023-01-17T17:51:42.953367Z",
          "shell.execute_reply": "2023-01-17T17:51:42.952519Z"
        },
        "papermill": {
          "duration": 0.012478,
          "end_time": "2023-01-17T17:51:42.955149",
          "exception": false,
          "start_time": "2023-01-17T17:51:42.942671",
          "status": "completed"
        },
        "tags": [],
        "id": "f0a62ce9"
      },
      "outputs": [],
      "source": [
        "criterion = nn.NLLLoss()"
      ]
    },
    {
      "cell_type": "code",
      "execution_count": 15,
      "id": "1ffc9a2a",
      "metadata": {
        "execution": {
          "iopub.execute_input": "2023-01-17T17:51:42.968575Z",
          "iopub.status.busy": "2023-01-17T17:51:42.968067Z",
          "iopub.status.idle": "2023-01-17T17:51:42.971336Z",
          "shell.execute_reply": "2023-01-17T17:51:42.970672Z"
        },
        "papermill": {
          "duration": 0.011778,
          "end_time": "2023-01-17T17:51:42.972941",
          "exception": false,
          "start_time": "2023-01-17T17:51:42.961163",
          "status": "completed"
        },
        "tags": [],
        "id": "1ffc9a2a"
      },
      "outputs": [],
      "source": [
        "learning_rate = 0.005"
      ]
    },
    {
      "cell_type": "code",
      "execution_count": 16,
      "id": "4f42da51",
      "metadata": {
        "execution": {
          "iopub.execute_input": "2023-01-17T17:51:42.986513Z",
          "iopub.status.busy": "2023-01-17T17:51:42.986013Z",
          "iopub.status.idle": "2023-01-17T17:51:42.991271Z",
          "shell.execute_reply": "2023-01-17T17:51:42.990602Z"
        },
        "papermill": {
          "duration": 0.014259,
          "end_time": "2023-01-17T17:51:42.992955",
          "exception": false,
          "start_time": "2023-01-17T17:51:42.978696",
          "status": "completed"
        },
        "tags": [],
        "id": "4f42da51"
      },
      "outputs": [],
      "source": [
        "def train(category_tensor, line_tensor):\n",
        "    hidden = rnn.initHidden()\n",
        "    \n",
        "    rnn.zero_grad()\n",
        "    \n",
        "    for i in range(line_tensor.size()[0]):\n",
        "        output, hidden = rnn(line_tensor[i], hidden)\n",
        "    \n",
        "    loss = criterion(output, category_tensor)\n",
        "    loss.backward()\n",
        "    \n",
        "    # Add params' gradients to their values, multiplied by lr\n",
        "    for p in rnn.parameters():\n",
        "        p.data.add_(p.grad.data, alpha=-learning_rate)\n",
        "        \n",
        "    return output, loss.item()"
      ]
    },
    {
      "cell_type": "code",
      "execution_count": 17,
      "id": "6a68110a",
      "metadata": {
        "execution": {
          "iopub.execute_input": "2023-01-17T17:51:43.006539Z",
          "iopub.status.busy": "2023-01-17T17:51:43.006033Z",
          "iopub.status.idle": "2023-01-17T17:53:18.228713Z",
          "shell.execute_reply": "2023-01-17T17:53:18.227931Z"
        },
        "papermill": {
          "duration": 95.232187,
          "end_time": "2023-01-17T17:53:18.230960",
          "exception": false,
          "start_time": "2023-01-17T17:51:42.998773",
          "status": "completed"
        },
        "tags": [],
        "colab": {
          "base_uri": "https://localhost:8080/"
        },
        "id": "6a68110a",
        "outputId": "37ba2b94-5183-4ffb-ac3e-834fabb32360"
      },
      "outputs": [
        {
          "output_type": "stream",
          "name": "stdout",
          "text": [
            "5000 5% (0m 10s) 2.6046 Dao / Portuguese ✗ (Vietnamese)\n",
            "10000 10% (0m 19s) 2.2294 Forstner / Dutch ✗ (German)\n",
            "15000 15% (0m 25s) 2.6533 Grant / Vietnamese ✗ (Scottish)\n",
            "20000 20% (0m 30s) 1.7508 Mathghamhain / Russian ✗ (Irish)\n",
            "25000 25% (0m 36s) 3.4214 Mata / Japanese ✗ (Portuguese)\n",
            "30000 30% (0m 41s) 0.1147 Hatakeyama / Japanese ✓\n",
            "35000 35% (0m 47s) 1.6252 Herrero / Spanish ✓\n",
            "40000 40% (0m 52s) 1.0544 Zhao / Chinese ✓\n",
            "45000 45% (0m 58s) 0.7846 Breiner / German ✓\n",
            "50000 50% (1m 3s) 2.1417 Millett / Dutch ✗ (English)\n",
            "55000 55% (1m 9s) 1.4468 Jedynak / Czech ✗ (Polish)\n",
            "60000 60% (1m 14s) 2.2841 Denend / German ✗ (Dutch)\n",
            "65000 65% (1m 20s) 1.0349 Krhovsky / Russian ✗ (Czech)\n",
            "70000 70% (1m 25s) 2.7987 Salomon / English ✗ (French)\n",
            "75000 75% (1m 31s) 0.3894 Kowalczyk / Polish ✓\n",
            "80000 80% (1m 37s) 1.7238 Krebs / Arabic ✗ (German)\n",
            "85000 85% (1m 42s) 1.0018 Bolcar / Czech ✓\n",
            "90000 90% (1m 48s) 0.8500 Gu / Korean ✓\n",
            "95000 95% (1m 53s) 0.6906 Cucinotta / Italian ✓\n",
            "100000 100% (2m 0s) 1.4135 Devin / French ✗ (Irish)\n"
          ]
        }
      ],
      "source": [
        "import time\n",
        "import math\n",
        "\n",
        "n_iters = 100_000\n",
        "print_every = 5_000\n",
        "plot_every = 1_000\n",
        "\n",
        "\n",
        "\n",
        "# Keep track of losses for plotting\n",
        "current_loss = 0\n",
        "all_losses = []\n",
        "\n",
        "def timeSince(since):\n",
        "    now = time.time()\n",
        "    s = now - since\n",
        "    m = math.floor(s / 60)\n",
        "    s -= m * 60\n",
        "    return '%dm %ds' % (m, s)\n",
        "\n",
        "start = time.time()\n",
        "\n",
        "for iter in range(1, n_iters + 1):\n",
        "    category, line, category_tensor, line_tensor = randomTrainingExample()\n",
        "    output, loss = train(category_tensor, line_tensor)\n",
        "    current_loss += loss\n",
        "\n",
        "    # Print iter number, loss, name and guess\n",
        "    if iter % print_every == 0:\n",
        "        guess, guess_i = categoryFromOutput(output)\n",
        "        correct = '✓' if guess == category else '✗ (%s)' % category\n",
        "        print('%d %d%% (%s) %.4f %s / %s %s' % (iter, iter / n_iters * 100, timeSince(start), loss, line, guess, correct))\n",
        "\n",
        "    # Add current loss avg to list of losses\n",
        "    if iter % plot_every == 0:\n",
        "        all_losses.append(current_loss / plot_every)\n",
        "        current_loss = 0"
      ]
    },
    {
      "cell_type": "code",
      "execution_count": 18,
      "id": "cf7cf8db",
      "metadata": {
        "execution": {
          "iopub.execute_input": "2023-01-17T17:53:18.250482Z",
          "iopub.status.busy": "2023-01-17T17:53:18.249858Z",
          "iopub.status.idle": "2023-01-17T17:53:18.453040Z",
          "shell.execute_reply": "2023-01-17T17:53:18.452125Z"
        },
        "papermill": {
          "duration": 0.214934,
          "end_time": "2023-01-17T17:53:18.455248",
          "exception": false,
          "start_time": "2023-01-17T17:53:18.240314",
          "status": "completed"
        },
        "tags": [],
        "colab": {
          "base_uri": "https://localhost:8080/",
          "height": 282
        },
        "id": "cf7cf8db",
        "outputId": "2a025b5e-84f0-4aa9-cff8-df3fbb013a64"
      },
      "outputs": [
        {
          "output_type": "execute_result",
          "data": {
            "text/plain": [
              "[<matplotlib.lines.Line2D at 0x7f9e2b3926d0>]"
            ]
          },
          "metadata": {},
          "execution_count": 18
        },
        {
          "output_type": "display_data",
          "data": {
            "text/plain": [
              "<Figure size 432x288 with 1 Axes>"
            ],
            "image/png": "[encoded data removed]"
          },
          "metadata": {
            "needs_background": "light"
          }
        }
      ],
      "source": [
        "import matplotlib.pyplot as plt\n",
        "import matplotlib.ticker as ticker\n",
        "\n",
        "plt.figure()\n",
        "plt.plot(all_losses)"
      ]
    },
    {
      "cell_type": "code",
      "execution_count": 19,
      "id": "87876d72",
      "metadata": {
        "execution": {
          "iopub.execute_input": "2023-01-17T17:53:18.472593Z",
          "iopub.status.busy": "2023-01-17T17:53:18.471970Z",
          "iopub.status.idle": "2023-01-17T17:53:23.133421Z",
          "shell.execute_reply": "2023-01-17T17:53:23.132645Z"
        },
        "papermill": {
          "duration": 4.672247,
          "end_time": "2023-01-17T17:53:23.135660",
          "exception": false,
          "start_time": "2023-01-17T17:53:18.463413",
          "status": "completed"
        },
        "tags": [],
        "id": "87876d72"
      },
      "outputs": [],
      "source": [
        "confusion = torch.zeros(n_categories, n_categories)\n",
        "n_confusion = 10_000\n",
        "\n",
        "def evaluate(line_tensor):\n",
        "    hidden = rnn.initHidden()\n",
        "    \n",
        "    for i in range(line_tensor.size()[0]):\n",
        "        output, hidden = rnn(line_tensor[i], hidden)\n",
        "    \n",
        "    return output\n",
        "\n",
        "for i in range(n_confusion):\n",
        "    category, line, category_tensor, line_tensor = randomTrainingExample()\n",
        "    output = evaluate(line_tensor)\n",
        "    guess, guess_i = categoryFromOutput(output)\n",
        "    category_i = all_categories.index(category)\n",
        "    confusion[category_i][guess_i] += 1\n",
        "    \n",
        "# Normalize\n",
        "for i in range(n_categories):\n",
        "    confusion[i] = confusion[i] / confusion[i].sum()\n"
      ]
    },
    {
      "cell_type": "code",
      "execution_count": 20,
      "id": "19f3be1f",
      "metadata": {
        "execution": {
          "iopub.execute_input": "2023-01-17T17:53:23.154135Z",
          "iopub.status.busy": "2023-01-17T17:53:23.153479Z",
          "iopub.status.idle": "2023-01-17T17:53:23.565720Z",
          "shell.execute_reply": "2023-01-17T17:53:23.564678Z"
        },
        "papermill": {
          "duration": 0.422823,
          "end_time": "2023-01-17T17:53:23.567871",
          "exception": false,
          "start_time": "2023-01-17T17:53:23.145048",
          "status": "completed"
        },
        "tags": [],
        "colab": {
          "base_uri": "https://localhost:8080/",
          "height": 320
        },
        "id": "19f3be1f",
        "outputId": "49cbad47-d59f-4dec-cb8d-e634eade41c9"
      },
      "outputs": [
        {
          "output_type": "display_data",
          "data": {
            "text/plain": [
              "<Figure size 432x288 with 2 Axes>"
            ],
            "image/png": "[encoded data removed]"
          },
          "metadata": {
            "needs_background": "light"
          }
        }
      ],
      "source": [
        "fig = plt.figure()\n",
        "ax = fig.add_subplot(111)\n",
        "cax = ax.matshow(confusion.numpy())\n",
        "fig.colorbar(cax)\n",
        "\n",
        "# Set up axes\n",
        "ax.set_xticklabels([''] + all_categories, rotation=90)\n",
        "ax.set_yticklabels([''] + all_categories)\n",
        "\n",
        "# Force label at every tick\n",
        "ax.xaxis.set_major_locator(ticker.MultipleLocator(1))\n",
        "ax.yaxis.set_major_locator(ticker.MultipleLocator(1))\n",
        "\n",
        "# sphinx_gallery_thumbnail_number = 2\n",
        "plt.show()"
      ]
    },
    {
      "cell_type": "code",
      "execution_count": 21,
      "id": "dc1205a0",
      "metadata": {
        "execution": {
          "iopub.execute_input": "2023-01-17T17:53:23.587378Z",
          "iopub.status.busy": "2023-01-17T17:53:23.586818Z",
          "iopub.status.idle": "2023-01-17T17:53:23.593704Z",
          "shell.execute_reply": "2023-01-17T17:53:23.592606Z"
        },
        "papermill": {
          "duration": 0.019012,
          "end_time": "2023-01-17T17:53:23.595662",
          "exception": false,
          "start_time": "2023-01-17T17:53:23.576650",
          "status": "completed"
        },
        "tags": [],
        "id": "dc1205a0"
      },
      "outputs": [],
      "source": [
        "def predict(input_line, n_predictions=3):\n",
        "    print(f\"\\n> {input_line}\")\n",
        "    with torch.no_grad():\n",
        "        output = evaluate(lineToTensor(input_line))\n",
        "        \n",
        "        # Get top N categories\n",
        "        topv, topi = output.topk(n_predictions, 1, True)\n",
        "        predictions = []\n",
        "        \n",
        "        for i in range(n_predictions):\n",
        "            value = topv[0][i].item()\n",
        "            category_index = topi[0][i].item()\n",
        "            print('(%.2f) %s' % (value, all_categories[category_index]))\n",
        "            predictions.append([value, all_categories[category_index]])\n"
      ]
    },
    {
      "cell_type": "code",
      "execution_count": 22,
      "id": "3625d456",
      "metadata": {
        "execution": {
          "iopub.execute_input": "2023-01-17T17:53:23.614060Z",
          "iopub.status.busy": "2023-01-17T17:53:23.613147Z",
          "iopub.status.idle": "2023-01-17T17:53:23.630348Z",
          "shell.execute_reply": "2023-01-17T17:53:23.628712Z"
        },
        "papermill": {
          "duration": 0.028934,
          "end_time": "2023-01-17T17:53:23.633019",
          "exception": false,
          "start_time": "2023-01-17T17:53:23.604085",
          "status": "completed"
        },
        "tags": [],
        "colab": {
          "base_uri": "https://localhost:8080/"
        },
        "id": "3625d456",
        "outputId": "98ba8897-41bc-4afc-e022-06f27ba7dc5c"
      },
      "outputs": [
        {
          "output_type": "stream",
          "name": "stdout",
          "text": [
            "\n",
            "> Dovesky\n",
            "(-0.70) Russian\n",
            "(-1.18) Czech\n",
            "(-2.36) Irish\n"
          ]
        }
      ],
      "source": [
        "predict('Dovesky')"
      ]
    },
    {
      "cell_type": "code",
      "execution_count": 23,
      "id": "7ceb015d",
      "metadata": {
        "execution": {
          "iopub.execute_input": "2023-01-17T17:53:23.652269Z",
          "iopub.status.busy": "2023-01-17T17:53:23.651683Z",
          "iopub.status.idle": "2023-01-17T17:53:23.657541Z",
          "shell.execute_reply": "2023-01-17T17:53:23.656431Z"
        },
        "papermill": {
          "duration": 0.018439,
          "end_time": "2023-01-17T17:53:23.660394",
          "exception": false,
          "start_time": "2023-01-17T17:53:23.641955",
          "status": "completed"
        },
        "tags": [],
        "colab": {
          "base_uri": "https://localhost:8080/"
        },
        "id": "7ceb015d",
        "outputId": "55fe00db-99c4-40d7-db1d-70ce551768cb"
      },
      "outputs": [
        {
          "output_type": "stream",
          "name": "stdout",
          "text": [
            "\n",
            "> Habu\n",
            "(-0.98) Japanese\n",
            "(-1.62) Arabic\n",
            "(-2.36) German\n"
          ]
        }
      ],
      "source": [
        "predict('Habu')"
      ]
    },
    {
      "cell_type": "code",
      "execution_count": 36,
      "id": "c55ef016",
      "metadata": {
        "papermill": {
          "duration": 0.00781,
          "end_time": "2023-01-17T17:53:23.678556",
          "exception": false,
          "start_time": "2023-01-17T17:53:23.670746",
          "status": "completed"
        },
        "tags": [],
        "colab": {
          "base_uri": "https://localhost:8080/"
        },
        "id": "c55ef016",
        "outputId": "81aef04f-95cc-44a5-b08d-ceb3b88a117b"
      },
      "outputs": [
        {
          "output_type": "stream",
          "name": "stdout",
          "text": [
            "\n",
            "> Muhammad\n",
            "(-0.38) Arabic\n",
            "(-2.61) Japanese\n",
            "(-2.62) French\n"
          ]
        }
      ],
      "source": [
        "predict(\"Muhammad\")"
      ]
    },
    {
      "cell_type": "code",
      "source": [],
      "metadata": {
        "id": "VquraoXS9fgA"
      },
      "id": "VquraoXS9fgA",
      "execution_count": null,
      "outputs": []
    }
  ],
  "metadata": {
    "kernelspec": {
      "display_name": "Python 3 (ipykernel)",
      "language": "python",
      "name": "python3"
    },
    "language_info": {
      "codemirror_mode": {
        "name": "ipython",
        "version": 3
      },
      "file_extension": ".py",
      "mimetype": "text/x-python",
      "name": "python",
      "nbconvert_exporter": "python",
      "pygments_lexer": "ipython3",
      "version": "3.10.6"
    },
    "papermill": {
      "default_parameters": {},
      "duration": 110.770906,
      "end_time": "2023-01-17T17:53:24.306644",
      "environment_variables": {},
      "exception": null,
      "input_path": "__notebook__.ipynb",
      "output_path": "__notebook__.ipynb",
      "parameters": {},
      "start_time": "2023-01-17T17:51:33.535738",
      "version": "2.3.4"
    },
    "colab": {
      "provenance": []
    }
  },
  "nbformat": 4,
  "nbformat_minor": 5
}